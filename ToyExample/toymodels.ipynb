{
 "cells": [
  {
   "cell_type": "code",
   "execution_count": null,
   "metadata": {},
   "outputs": [],
   "source": [
    "import numpy as np\n",
    "\n",
    "\n",
    "#how many models we want to have\n",
    "total_models=11\n",
    "\n",
    "def LDM(params,x):\n",
    "    #x = (n,z)\n",
    "    #params= parameters (volume, surface, asymmetry, Coulomb)\n",
    "    n=x[0]\n",
    "    z=x[1]\n",
    "\n",
    "    return params[0]*(n+z) - params[1]*(n+z)**(2/3) - params[2]*((n-z)**2/(n+z)) - params[3]*((z**2)/((n+z)**(1/3)))\n",
    "\n",
    "LDM_truth_params=[14,13.3,0.57,17]\n",
    "\n",
    "def Truth(x):\n",
    "    return LDM(LDM_truth_params,x)\n",
    "\n",
    "#We should create the data (paris of [N,Z])\n"
   ]
  },
  {
   "cell_type": "code",
   "execution_count": null,
   "metadata": {},
   "outputs": [],
   "source": [
    "\n",
    "\n",
    "#Noise level we will use to \"wiggle\" all the model predictions a bit\n",
    "corruption_noise_Mass=0.05\n",
    "\n",
    "# Fix random seed\n",
    "np.random.seed(42)\n",
    "\n",
    "\n"
   ]
  }
 ],
 "metadata": {
  "language_info": {
   "name": "python"
  },
  "orig_nbformat": 4
 },
 "nbformat": 4,
 "nbformat_minor": 2
}
